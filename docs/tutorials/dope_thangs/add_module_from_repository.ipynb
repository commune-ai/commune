{
 "cells": [
  {
   "cell_type": "code",
   "execution_count": 1,
   "metadata": {},
   "outputs": [],
   "source": [
    "import commune as c "
   ]
  },
  {
   "cell_type": "code",
   "execution_count": 2,
   "metadata": {},
   "outputs": [
    {
     "data": {
      "text/plain": [
       "['get_module_dirpath',\n",
       " 'get_user',\n",
       " 'get_cache',\n",
       " 'getc',\n",
       " 'get_shortcut',\n",
       " 'get_public_key_from_file',\n",
       " 'get_mem',\n",
       " 'get_client',\n",
       " 'get_function_input_variables',\n",
       " 'get_value',\n",
       " 'get_available_port',\n",
       " 'get_module',\n",
       " 'get_self_methods',\n",
       " 'get_methods',\n",
       " 'get_root_paths',\n",
       " 'get_template_args',\n",
       " 'get_json',\n",
       " 'get_actor',\n",
       " 'get_external_ip',\n",
       " 'get_sample_schema',\n",
       " 'get',\n",
       " 'get_config',\n",
       " 'get_parent_functions',\n",
       " 'async_get_json',\n",
       " 'get_static_methods',\n",
       " 'get_model_size',\n",
       " 'getattr',\n",
       " 'get_peer_addresses',\n",
       " 'get_file_contents',\n",
       " 'get_module_python_paths',\n",
       " 'get_function_defaults',\n",
       " 'get_function_schema',\n",
       " 'getnet',\n",
       " 'get_files_code',\n",
       " 'get_function_annotations',\n",
       " 'get_fn_args',\n",
       " 'get_function_args',\n",
       " 'get_network',\n",
       " 'get_function_type',\n",
       " 'get_streamlit',\n",
       " 'get_module_dir',\n",
       " 'get_function_default_map',\n",
       " 'get_port_range',\n",
       " 'get_used_ports',\n",
       " 'get_keys',\n",
       " 'get_available_ports',\n",
       " 'get_env',\n",
       " 'get_function_code',\n",
       " 'get_key',\n",
       " 'get_attributes',\n",
       " 'get_port',\n",
       " 'get_params',\n",
       " 'get_annotations',\n",
       " 'get_ts',\n",
       " 'get_class_name',\n",
       " 'getclassattr',\n",
       " 'dict_get',\n",
       " 'get_module_config_path',\n",
       " 'get_torch',\n",
       " 'get_age',\n",
       " 'get_auth',\n",
       " 'get_schema',\n",
       " 'get_text',\n",
       " 'async_get_peer_name',\n",
       " 'get_function_signature_map',\n",
       " 'get_function_signature',\n",
       " 'get_object',\n",
       " 'get_empty_model',\n",
       " 'get_class_methods',\n",
       " 'get_address',\n",
       " 'get_balance',\n",
       " 'get_num_params',\n",
       " 'get_event_loop',\n",
       " 'get_server_info',\n",
       " 'get_parents',\n",
       " 'get_model_device',\n",
       " 'get_key_for_address',\n",
       " 'get_shortcuts',\n",
       " 'get_peer_name',\n",
       " 'get_tensor_size',\n",
       " 'get_ray_context',\n",
       " 'get_model_params',\n",
       " 'ray_get',\n",
       " 'get_signer',\n",
       " 'filepath',\n",
       " 'get_functions',\n",
       " 'get_actor_id',\n",
       " 'get_peer_info',\n",
       " 'get_kwargs',\n",
       " 'get_fn_code',\n",
       " 'get_module_name']"
      ]
     },
     "execution_count": 2,
     "metadata": {},
     "output_type": "execute_result"
    }
   ],
   "source": [
    "c.fns('get')"
   ]
  },
  {
   "cell_type": "code",
   "execution_count": null,
   "metadata": {},
   "outputs": [],
   "source": []
  }
 ],
 "metadata": {
  "kernelspec": {
   "display_name": "Python 3",
   "language": "python",
   "name": "python3"
  },
  "language_info": {
   "codemirror_mode": {
    "name": "ipython",
    "version": 3
   },
   "file_extension": ".py",
   "mimetype": "text/x-python",
   "name": "python",
   "nbconvert_exporter": "python",
   "pygments_lexer": "ipython3",
   "version": "3.10.12"
  },
  "orig_nbformat": 4
 },
 "nbformat": 4,
 "nbformat_minor": 2
}
